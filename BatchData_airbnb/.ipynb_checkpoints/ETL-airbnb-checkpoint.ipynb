{
 "cells": [
  {
   "cell_type": "markdown",
   "metadata": {},
   "source": [
    "# ETL to transform Airbnb rawdata to database schema\n",
    "\n",
    "This ETL is coded in pyspark. Though the current data size could be handled in Pandas or similar libraries, pyspark was chosen for scale reasons.\n",
    "\n",
    "TODO: outline steps here"
   ]
  },
  {
   "cell_type": "markdown",
   "metadata": {},
   "source": [
    "## Initialisation"
   ]
  },
  {
   "cell_type": "code",
   "execution_count": 9,
   "metadata": {},
   "outputs": [
    {
     "name": "stdout",
     "output_type": "stream",
     "text": [
      "Spark session:\n",
      "<pyspark.sql.session.SparkSession object at 0x7f368d7a8fd0>\n"
     ]
    }
   ],
   "source": [
    "### Import modules\n",
    "\n",
    "import findspark\n",
    "findspark.init()\n",
    "\n",
    "from pyspark.sql import SparkSession\n",
    "spark = SparkSession.builder.appName('SparkWithPostgres')\\\n",
    "        .config(\"spark.driver.extraClassPath\", \"/project/Practical_exam/postgresql-42.3.2.jar\")\\\n",
    "        .getOrCreate()\n",
    "print('Spark session:')\n",
    "print(spark)\n",
    "\n",
    "import pyspark\n",
    "from pyspark.sql import SQLContext"
   ]
  },
  {
   "cell_type": "code",
   "execution_count": 5,
   "metadata": {},
   "outputs": [
    {
     "name": "stdout",
     "output_type": "stream",
     "text": [
      "Initialisation of Spark context\n",
      "<SparkContext master=local[*] appName=SparkWithPostgres>\n",
      "Initialisation of SparkSQL\n",
      "<pyspark.sql.context.SQLContext object at 0x7f368d8c2fd0>\n"
     ]
    }
   ],
   "source": [
    "### Initialise Spark context\n",
    "\n",
    "sc = pyspark.SparkContext.getOrCreate()\n",
    "\n",
    "print('Initialisation of Spark context')\n",
    "print(sc)\n",
    "print('')\n",
    "\n",
    "sqlContext = SQLContext(sc)\n",
    "print('Initialisation of SparkSQL')\n",
    "print(sqlContext)\n",
    "\n",
    "spark.sparkContext.setLogLevel(\"ERROR\")\n",
    "sc.setLogLevel(\"ERROR\")"
   ]
  },
  {
   "cell_type": "code",
   "execution_count": 10,
   "metadata": {},
   "outputs": [],
   "source": [
    "### Constants\n",
    "\n",
    "CSV_PATH = './OriginalData_csv/'\n",
    "PARQUET_PATH = './SchemaReadyData_parquet/'"
   ]
  },
  {
   "cell_type": "code",
   "execution_count": null,
   "metadata": {},
   "outputs": [],
   "source": []
  }
 ],
 "metadata": {
  "kernelspec": {
   "display_name": "pyvenv",
   "language": "python",
   "name": "pyvenv"
  },
  "language_info": {
   "codemirror_mode": {
    "name": "ipython",
    "version": 3
   },
   "file_extension": ".py",
   "mimetype": "text/x-python",
   "name": "python",
   "nbconvert_exporter": "python",
   "pygments_lexer": "ipython3",
   "version": "3.8.2"
  }
 },
 "nbformat": 4,
 "nbformat_minor": 2
}
