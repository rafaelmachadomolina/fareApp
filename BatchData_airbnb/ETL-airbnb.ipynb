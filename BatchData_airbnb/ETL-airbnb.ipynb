{
 "cells": [
  {
   "cell_type": "markdown",
   "metadata": {},
   "source": [
    "# ETL to transform Airbnb rawdata to database schema\n",
    "\n",
    "This ETL is coded in pyspark. Though the current data size could be handled in Pandas or similar libraries, pyspark was chosen for scale reasons.\n",
    "\n",
    "TODO: outline steps here"
   ]
  },
  {
   "cell_type": "markdown",
   "metadata": {},
   "source": [
    "## Initialisation"
   ]
  },
  {
   "cell_type": "code",
   "execution_count": 1,
   "metadata": {},
   "outputs": [
    {
     "name": "stdout",
     "output_type": "stream",
     "text": [
      "Spark session:\n",
      "<pyspark.sql.session.SparkSession object at 0x7fe9328a0040>\n"
     ]
    }
   ],
   "source": [
    "### Import modules\n",
    "\n",
    "import warnings\n",
    "warnings.filterwarnings('ignore')\n",
    "\n",
    "import findspark\n",
    "findspark.init()\n",
    "\n",
    "from pyspark.sql import SparkSession\n",
    "spark = SparkSession.builder.appName('SparkWithPostgres')\\\n",
    "        .config(\"spark.driver.extraClassPath\", \"/project/Practical_exam/postgresql-42.3.2.jar\")\\\n",
    "        .getOrCreate()\n",
    "print('Spark session:')\n",
    "print(spark)\n",
    "\n",
    "import pyspark\n",
    "from pyspark.sql import SQLContext"
   ]
  },
  {
   "cell_type": "code",
   "execution_count": 2,
   "metadata": {},
   "outputs": [
    {
     "name": "stdout",
     "output_type": "stream",
     "text": [
      "Initialisation of Spark context\n",
      "<SparkContext master=local[*] appName=SparkWithPostgres>\n",
      "\n",
      "Initialisation of SparkSQL\n",
      "<pyspark.sql.context.SQLContext object at 0x7fe9328a08e0>\n"
     ]
    }
   ],
   "source": [
    "### Initialise Spark context\n",
    "\n",
    "sc = pyspark.SparkContext.getOrCreate()\n",
    "\n",
    "print('Initialisation of Spark context')\n",
    "print(sc)\n",
    "print('')\n",
    "\n",
    "sqlContext = SQLContext(sc)\n",
    "print('Initialisation of SparkSQL')\n",
    "print(sqlContext)\n",
    "\n",
    "spark.sparkContext.setLogLevel(\"ERROR\")\n",
    "sc.setLogLevel(\"ERROR\")"
   ]
  },
  {
   "cell_type": "code",
   "execution_count": 3,
   "metadata": {},
   "outputs": [],
   "source": [
    "### Constants\n",
    "\n",
    "CSV_PATH = './OriginalData_csv/'\n",
    "PARQUET_PATH = './SchemaReadyData_parquet/'"
   ]
  },
  {
   "cell_type": "markdown",
   "metadata": {},
   "source": [
    "## Listings"
   ]
  },
  {
   "cell_type": "code",
   "execution_count": 100,
   "metadata": {},
   "outputs": [
    {
     "name": "stdout",
     "output_type": "stream",
     "text": [
      "root\n",
      " |-- id: string (nullable = true)\n",
      " |-- listing_url: string (nullable = true)\n",
      " |-- scrape_id: string (nullable = true)\n",
      " |-- last_scraped: string (nullable = true)\n",
      " |-- name: string (nullable = true)\n",
      " |-- description: string (nullable = true)\n",
      " |-- neighborhood_overview: string (nullable = true)\n",
      " |-- picture_url: string (nullable = true)\n",
      " |-- host_id: string (nullable = true)\n",
      " |-- host_url: string (nullable = true)\n",
      " |-- host_name: string (nullable = true)\n",
      " |-- host_since: string (nullable = true)\n",
      " |-- host_location: string (nullable = true)\n",
      " |-- host_about: string (nullable = true)\n",
      " |-- host_response_time: string (nullable = true)\n",
      " |-- host_response_rate: string (nullable = true)\n",
      " |-- host_acceptance_rate: string (nullable = true)\n",
      " |-- host_is_superhost: string (nullable = true)\n",
      " |-- host_thumbnail_url: string (nullable = true)\n",
      " |-- host_picture_url: string (nullable = true)\n",
      " |-- host_neighbourhood: string (nullable = true)\n",
      " |-- host_listings_count: string (nullable = true)\n",
      " |-- host_total_listings_count: string (nullable = true)\n",
      " |-- host_verifications: string (nullable = true)\n",
      " |-- host_has_profile_pic: string (nullable = true)\n",
      " |-- host_identity_verified: string (nullable = true)\n",
      " |-- neighbourhood: string (nullable = true)\n",
      " |-- neighbourhood_cleansed: string (nullable = true)\n",
      " |-- neighbourhood_group_cleansed: string (nullable = true)\n",
      " |-- latitude: string (nullable = true)\n",
      " |-- longitude: string (nullable = true)\n",
      " |-- property_type: string (nullable = true)\n",
      " |-- room_type: string (nullable = true)\n",
      " |-- accommodates: string (nullable = true)\n",
      " |-- bathrooms: string (nullable = true)\n",
      " |-- bathrooms_text: string (nullable = true)\n",
      " |-- bedrooms: string (nullable = true)\n",
      " |-- beds: string (nullable = true)\n",
      " |-- amenities: string (nullable = true)\n",
      " |-- price: string (nullable = true)\n",
      " |-- minimum_nights: string (nullable = true)\n",
      " |-- maximum_nights: string (nullable = true)\n",
      " |-- minimum_minimum_nights: string (nullable = true)\n",
      " |-- maximum_minimum_nights: string (nullable = true)\n",
      " |-- minimum_maximum_nights: string (nullable = true)\n",
      " |-- maximum_maximum_nights: string (nullable = true)\n",
      " |-- minimum_nights_avg_ntm: string (nullable = true)\n",
      " |-- maximum_nights_avg_ntm: string (nullable = true)\n",
      " |-- calendar_updated: string (nullable = true)\n",
      " |-- has_availability: string (nullable = true)\n",
      " |-- availability_30: string (nullable = true)\n",
      " |-- availability_60: string (nullable = true)\n",
      " |-- availability_90: string (nullable = true)\n",
      " |-- availability_365: string (nullable = true)\n",
      " |-- calendar_last_scraped: string (nullable = true)\n",
      " |-- number_of_reviews: string (nullable = true)\n",
      " |-- number_of_reviews_ltm: string (nullable = true)\n",
      " |-- number_of_reviews_l30d: string (nullable = true)\n",
      " |-- first_review: string (nullable = true)\n",
      " |-- last_review: string (nullable = true)\n",
      " |-- review_scores_rating: string (nullable = true)\n",
      " |-- review_scores_accuracy: string (nullable = true)\n",
      " |-- review_scores_cleanliness: string (nullable = true)\n",
      " |-- review_scores_checkin: string (nullable = true)\n",
      " |-- review_scores_communication: string (nullable = true)\n",
      " |-- review_scores_location: string (nullable = true)\n",
      " |-- review_scores_value: string (nullable = true)\n",
      " |-- license: string (nullable = true)\n",
      " |-- instant_bookable: string (nullable = true)\n",
      " |-- calculated_host_listings_count: string (nullable = true)\n",
      " |-- calculated_host_listings_count_entire_homes: string (nullable = true)\n",
      " |-- calculated_host_listings_count_private_rooms: string (nullable = true)\n",
      " |-- calculated_host_listings_count_shared_rooms: string (nullable = true)\n",
      " |-- reviews_per_month: string (nullable = true)\n",
      "\n"
     ]
    }
   ],
   "source": [
    "### Load listings to Spark dataframe\n",
    "\n",
    "df_listings = spark.read.options(delimiter = ',',\n",
    "                                 header = True,\n",
    "                                 #lineSep = '\\n',\n",
    "                                 escape = '\"',\n",
    "                                 multiline = True).csv(CSV_PATH + 'listings.csv')\n",
    "\n",
    "# Print schema\n",
    "df_listings.printSchema()"
   ]
  },
  {
   "cell_type": "code",
   "execution_count": 101,
   "metadata": {},
   "outputs": [],
   "source": [
    "### Drop empty columns (for more insight, consult EDA notebook)\n",
    "\n",
    "COLUMNS_TO_DROP = ('neighbourhood_group_cleansed',\n",
    "                  'bathrooms',\n",
    "                  'calendar_updated',\n",
    "                  'license')\n",
    "\n",
    "df_listings = df_listings.drop(*COLUMNS_TO_DROP)"
   ]
  },
  {
   "cell_type": "code",
   "execution_count": 102,
   "metadata": {},
   "outputs": [
    {
     "name": "stdout",
     "output_type": "stream",
     "text": [
      "Columns on original file: 70\n",
      "Columns after the split: 70\n"
     ]
    }
   ],
   "source": [
    "### Create 3 tables from listings df\n",
    "\n",
    "print('Columns on original file:', len(df_listings.columns))\n",
    "\n",
    "COLS_LISTINGS = ['id',\n",
    "                 'listing_url',\n",
    "                 'scrape_id',\n",
    "                 'last_scraped',\n",
    "                 'name',\n",
    "                 'description',\n",
    "                 'neighborhood_overview',\n",
    "                 'picture_url',\n",
    "                 'neighbourhood',\n",
    "                 'neighbourhood_cleansed',\n",
    "                 'latitude',\n",
    "                 'longitude',\n",
    "                 'property_type',\n",
    "                 'room_type',\n",
    "                 'accommodates',\n",
    "                 'bathrooms_text',\n",
    "                 'bedrooms',\n",
    "                 'beds',\n",
    "                 'amenities',\n",
    "                 'price',\n",
    "                 'minimum_nights',\n",
    "                 'maximum_nights']\n",
    "\n",
    "COLS_HOSTS = ['id',\n",
    "              'host_id',\n",
    "              'host_url',\n",
    "              'host_name',\n",
    "              'host_since',\n",
    "              'host_location',\n",
    "              'host_about',\n",
    "              'host_response_time',\n",
    "              'host_response_rate',\n",
    "              'host_acceptance_rate',\n",
    "              'host_is_superhost',\n",
    "              'host_thumbnail_url',\n",
    "              'host_picture_url',\n",
    "              'host_neighbourhood',\n",
    "              'host_listings_count',\n",
    "              'host_total_listings_count',\n",
    "              'host_verifications',\n",
    "              'host_has_profile_pic',\n",
    "              'host_identity_verified']\n",
    "\n",
    "COLS_COMPLENET = ['id',\n",
    "                  'minimum_minimum_nights',\n",
    "                  'maximum_minimum_nights',\n",
    "                  'minimum_maximum_nights',\n",
    "                  'maximum_maximum_nights',\n",
    "                  'minimum_nights_avg_ntm',\n",
    "                  'maximum_nights_avg_ntm',\n",
    "                  'has_availability',\n",
    "                  'availability_30',\n",
    "                  'availability_60',\n",
    "                  'availability_90',\n",
    "                  'availability_365',\n",
    "                  'calendar_last_scraped',\n",
    "                  'number_of_reviews',\n",
    "                  'number_of_reviews_ltm',\n",
    "                  'number_of_reviews_l30d',\n",
    "                  'first_review',\n",
    "                  'last_review',\n",
    "                  'review_scores_rating',\n",
    "                  'review_scores_accuracy',\n",
    "                  'review_scores_cleanliness',\n",
    "                  'review_scores_checkin',\n",
    "                  'review_scores_communication',\n",
    "                  'review_scores_location',\n",
    "                  'review_scores_value',\n",
    "                  'instant_bookable',\n",
    "                  'calculated_host_listings_count',\n",
    "                  'calculated_host_listings_count_entire_homes',\n",
    "                  'calculated_host_listings_count_private_rooms',\n",
    "                  'calculated_host_listings_count_shared_rooms',\n",
    "                  'reviews_per_month']\n",
    "\n",
    "print('Columns after the split:',\n",
    "      len(COLS_LISTINGS) + len(COLS_HOSTS) + len(COLS_COMPLENET) - 2) #Correction for 2 additioanl id columns\n",
    "\n",
    "# Create dataframes\n",
    "df_listings_main = df_listings.select(COLS_LISTINGS)\n",
    "df_hosts = df_listings.select(COLS_HOSTS)\n",
    "df_listings_complements = df_listings.select(COLS_COMPLENET)"
   ]
  },
  {
   "cell_type": "markdown",
   "metadata": {},
   "source": [
    "### Process listings main"
   ]
  },
  {
   "cell_type": "code",
   "execution_count": 104,
   "metadata": {},
   "outputs": [
    {
     "name": "stdout",
     "output_type": "stream",
     "text": [
      "root\n",
      " |-- id: string (nullable = true)\n",
      " |-- listing_url: string (nullable = true)\n",
      " |-- scrape_id: string (nullable = true)\n",
      " |-- last_scraped: string (nullable = true)\n",
      " |-- name: string (nullable = true)\n",
      " |-- description: string (nullable = true)\n",
      " |-- neighborhood_overview: string (nullable = true)\n",
      " |-- picture_url: string (nullable = true)\n",
      " |-- neighbourhood: string (nullable = true)\n",
      " |-- neighbourhood_cleansed: string (nullable = true)\n",
      " |-- latitude: string (nullable = true)\n",
      " |-- longitude: string (nullable = true)\n",
      " |-- property_type: string (nullable = true)\n",
      " |-- room_type: string (nullable = true)\n",
      " |-- accommodates: string (nullable = true)\n",
      " |-- bathrooms_text: string (nullable = true)\n",
      " |-- bedrooms: string (nullable = true)\n",
      " |-- beds: string (nullable = true)\n",
      " |-- amenities: string (nullable = true)\n",
      " |-- price: string (nullable = true)\n",
      " |-- minimum_nights: string (nullable = true)\n",
      " |-- maximum_nights: string (nullable = true)\n",
      "\n"
     ]
    }
   ],
   "source": [
    "### Give structure to listings table\n",
    "\n",
    "df_listings_main.first()\n",
    "df_listings_main.printSchema()"
   ]
  },
  {
   "cell_type": "code",
   "execution_count": null,
   "metadata": {},
   "outputs": [],
   "source": []
  }
 ],
 "metadata": {
  "kernelspec": {
   "display_name": "pyvenv",
   "language": "python",
   "name": "pyvenv"
  },
  "language_info": {
   "codemirror_mode": {
    "name": "ipython",
    "version": 3
   },
   "file_extension": ".py",
   "mimetype": "text/x-python",
   "name": "python",
   "nbconvert_exporter": "python",
   "pygments_lexer": "ipython3",
   "version": "3.8.2"
  }
 },
 "nbformat": 4,
 "nbformat_minor": 2
}
