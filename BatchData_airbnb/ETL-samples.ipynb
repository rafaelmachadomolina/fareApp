{
 "cells": [
  {
   "cell_type": "markdown",
   "metadata": {},
   "source": [
    "# ETL sample files\n",
    "\n",
    "The sample ETL is only used once. Its purpose is to create smaller versions of the files in order to persist a copy in the main repository. As a definition, 500 listings will be randomly selected to compose the sample files."
   ]
  },
  {
   "cell_type": "code",
   "execution_count": 1,
   "metadata": {},
   "outputs": [],
   "source": [
    "### Import modules\n",
    "\n",
    "import pandas as pd\n",
    "import warnings\n",
    "\n",
    "warnings.filterwarnings('ignore')"
   ]
  },
  {
   "cell_type": "code",
   "execution_count": 2,
   "metadata": {},
   "outputs": [],
   "source": [
    "### Constants\n",
    "\n",
    "CSV_PATH_ORIGIN = './OriginalData_csv/'\n",
    "CSV_PATH_TARGET = './OriginalData_csv_sample/'\n",
    "RANDOM_SEED = 888\n",
    "SAMPLES = 500"
   ]
  },
  {
   "cell_type": "code",
   "execution_count": 3,
   "metadata": {},
   "outputs": [],
   "source": [
    "### Import samples of files\n",
    "\n",
    "df_calendar = pd.read_csv(CSV_PATH_ORIGIN + 'calendar.csv')\n",
    "df_listings = pd.read_csv(CSV_PATH_ORIGIN + 'listings.csv')\n",
    "df_listings_2 = pd.read_csv(CSV_PATH_ORIGIN + 'listings-2.csv')\n",
    "df_reviews = pd.read_csv(CSV_PATH_ORIGIN + 'reviews.csv')\n",
    "df_reviews_2 = pd.read_csv(CSV_PATH_ORIGIN + 'reviews-2.csv')"
   ]
  },
  {
   "cell_type": "code",
   "execution_count": 4,
   "metadata": {},
   "outputs": [],
   "source": [
    "### Extract random sample from listings and compute sample dataframes\n",
    "\n",
    "srs_sample = df_listings.sample(SAMPLES, random_state = RANDOM_SEED)['id']\n",
    "\n",
    "# Compute sample dataframes\n",
    "df_calendar_sample = df_calendar[df_calendar['listing_id'].isin(srs_sample)]\n",
    "df_listings_sample = df_listings[df_listings['id'].isin(srs_sample)]\n",
    "df_listings_2_sample = df_listings_2[df_listings_2['id'].isin(srs_sample)]\n",
    "df_reviews_sample = df_reviews[df_reviews['listing_id'].isin(srs_sample)]\n",
    "df_reviews_2_sample = df_reviews_2[df_reviews_2['listing_id'].isin(srs_sample)]"
   ]
  },
  {
   "cell_type": "code",
   "execution_count": 5,
   "metadata": {},
   "outputs": [],
   "source": [
    "### Export files\n",
    "\n",
    "df_calendar_sample.to_csv(CSV_PATH_TARGET + 'calendar_sample.csv', index = False)\n",
    "df_listings_sample.to_csv(CSV_PATH_TARGET + 'listings_sample.csv', index = False)\n",
    "df_listings_2_sample.to_csv(CSV_PATH_TARGET + 'listings-2_sample.csv', index = False)\n",
    "df_reviews_sample.to_csv(CSV_PATH_TARGET + 'reviews_sample.csv', index = False)\n",
    "df_reviews_2_sample.to_csv(CSV_PATH_TARGET + 'reviews-2_sample.csv', index = False)"
   ]
  }
 ],
 "metadata": {
  "kernelspec": {
   "display_name": "pyvenv",
   "language": "python",
   "name": "pyvenv"
  },
  "language_info": {
   "codemirror_mode": {
    "name": "ipython",
    "version": 3
   },
   "file_extension": ".py",
   "mimetype": "text/x-python",
   "name": "python",
   "nbconvert_exporter": "python",
   "pygments_lexer": "ipython3",
   "version": "3.8.2"
  }
 },
 "nbformat": 4,
 "nbformat_minor": 2
}
