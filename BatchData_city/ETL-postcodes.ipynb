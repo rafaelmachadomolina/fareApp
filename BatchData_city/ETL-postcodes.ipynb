{
 "cells": [
  {
   "cell_type": "markdown",
   "metadata": {},
   "source": [
    "# ETL to transform London postcodes to database schema\n",
    "\n",
    "This ETL is coded in pandas, since it is used only once and there is little risk of scalability (no many postcodes newly added to the city).\n",
    "\n",
    "The following process complements the database for *fareApp*, enriching information around properties. In this case, regarding public transportation."
   ]
  },
  {
   "cell_type": "markdown",
   "metadata": {},
   "source": [
    "## Initialisation"
   ]
  },
  {
   "cell_type": "code",
   "execution_count": 1,
   "metadata": {},
   "outputs": [],
   "source": [
    "### Import modules\n",
    "\n",
    "import os\n",
    "import json\n",
    "import boto3\n",
    "import warnings\n",
    "import pandas as pd\n",
    "from pykml import parser\n",
    "\n",
    "warnings.filterwarnings('ignore')"
   ]
  },
  {
   "cell_type": "code",
   "execution_count": 2,
   "metadata": {},
   "outputs": [],
   "source": [
    "### Constants\n",
    "\n",
    "ORIGINAL_PATH = './OriginalData/'\n",
    "PARQUET_PATH = './SchemaReadyData_parquet/'"
   ]
  },
  {
   "cell_type": "code",
   "execution_count": 3,
   "metadata": {},
   "outputs": [],
   "source": [
    "### Database credentials\n",
    "\n",
    "DB_HOST = os.environ.get('DB_HOST')\n",
    "DB_PORT = os.environ.get('DB_PORT')\n",
    "DB_NAME = os.environ.get('DB_NAME')\n",
    "DB_USERNAME = os.environ.get('DB_USERNAME')\n",
    "DB_PASSWORD = os.environ.get('DB_PASSWORD')\n",
    "\n",
    "DB_URL = f'postgresql+psycopg2://{DB_USERNAME}:{DB_PASSWORD}@{DB_HOST}:{DB_PORT}/{DB_NAME}'"
   ]
  },
  {
   "cell_type": "markdown",
   "metadata": {},
   "source": [
    "## Retrieve data"
   ]
  },
  {
   "cell_type": "code",
   "execution_count": 4,
   "metadata": {},
   "outputs": [
    {
     "data": {
      "text/plain": [
       "Postcode                                                                    BR1 1AA\n",
       "In Use?                                                                         Yes\n",
       "Latitude                                                                  51.401546\n",
       "Longitude                                                                  0.015415\n",
       "Easting                                                                      540291\n",
       "Northing                                                                     168873\n",
       "Grid Ref                                                                   TQ402688\n",
       "County                                                               Greater London\n",
       "District                                                                    Bromley\n",
       "Ward                                                                   Bromley Town\n",
       "District Code                                                             E09000006\n",
       "Ward Code                                                                 E05000109\n",
       "Country                                                                     England\n",
       "County Code                                                               E11000009\n",
       "Constituency                                                Bromley and Chislehurst\n",
       "Introduced                                                               2016-05-01\n",
       "Terminated                                                                      NaN\n",
       "Parish                                                     Bromley, unparished area\n",
       "National Park                                                                   NaN\n",
       "Population                                                                      NaN\n",
       "Households                                                                      NaN\n",
       "Built up area                                                        Greater London\n",
       "Built up sub-division                                                       Bromley\n",
       "Lower layer super output area                                          Bromley 018B\n",
       "Rural/urban                                                 Urban major conurbation\n",
       "Region                                                                       London\n",
       "Altitude                                                                         71\n",
       "London zone                                                                       5\n",
       "LSOA Code                                                                 E01000675\n",
       "Local authority                                                                 NaN\n",
       "MSOA Code                                                                 E02000144\n",
       "Middle layer super output area                                        Bromley South\n",
       "Parish Code                                                               E43000196\n",
       "Census output area                                                        E00003264\n",
       "Constituency Code                                                         E14000604\n",
       "Index of Multiple Deprivation                                                 24305\n",
       "Quality                                                                           1\n",
       "User Type                                                                         0\n",
       "Last updated                                                             2022-02-23\n",
       "Nearest station                                                       Bromley South\n",
       "Distance to station                                                        0.218254\n",
       "Postcode area                                                                    BR\n",
       "Postcode district                                                               BR1\n",
       "Police force                                                    Metropolitan Police\n",
       "Water company                                                          Thames Water\n",
       "Plus Code                                                               9F32C228+J5\n",
       "Average Income                                                                63100\n",
       "Sewage Company                                                                  NaN\n",
       "Travel To Work Area                                                          London\n",
       "ITL level 2                                                    Outer London - South\n",
       "ITL level 3                                                                 Bromley\n",
       "UPRNs                             10070014435,10070014436,10070014437,1007001443...\n",
       "Distance to sea                                                              28.073\n",
       "Name: 0, dtype: object"
      ]
     },
     "execution_count": 4,
     "metadata": {},
     "output_type": "execute_result"
    }
   ],
   "source": [
    "### Read postcodes files\n",
    "\n",
    "df_postcodes = pd.read_csv(ORIGINAL_PATH + 'London postcodes.csv')\n",
    "\n",
    "# Show content of first row\n",
    "df_postcodes.iloc[0]"
   ]
  },
  {
   "cell_type": "code",
   "execution_count": 5,
   "metadata": {},
   "outputs": [],
   "source": [
    "### Read TfL stations file\n",
    "# Credit to https://gist.github.com/nishadhka/3ba801ca980da5b76004631c1935f604\n",
    "\n",
    "filename = 'stations.kml'\n",
    "with open(ORIGINAL_PATH + filename) as f:\n",
    "    kml_data = parser.parse(f).getroot().Document"
   ]
  },
  {
   "cell_type": "markdown",
   "metadata": {},
   "source": [
    "Clearly, the file contains several information regarding each post code. However, at this point only the postcode, region, borough and median coordinates are of interest."
   ]
  },
  {
   "cell_type": "code",
   "execution_count": 6,
   "metadata": {},
   "outputs": [
    {
     "name": "stdout",
     "output_type": "stream",
     "text": [
      "Table retrieved successfully.\n"
     ]
    }
   ],
   "source": [
    "### Bring neighbourhood table to cross reference\n",
    "\n",
    "try:\n",
    "\n",
    "    df_neighbourhoods = pd.read_sql_table('neighbourhoods', DB_URL, schema = 'listings')\n",
    "\n",
    "    print('Table retrieved successfully.')\n",
    "except:\n",
    "    print('Oh oh, something happened mate. Try again.')"
   ]
  },
  {
   "cell_type": "markdown",
   "metadata": {},
   "source": [
    "## Process postcode data"
   ]
  },
  {
   "cell_type": "code",
   "execution_count": 7,
   "metadata": {},
   "outputs": [],
   "source": [
    "### Retrieve certain features only\n",
    "\n",
    "SLICE_COLUMNS = ['Postcode',\n",
    "                 'In Use?',\n",
    "                 'Latitude',\n",
    "                 'Longitude',\n",
    "                 'District',\n",
    "                 'Constituency',\n",
    "                 'Postcode area',\n",
    "                 'Postcode district']\n",
    "\n",
    "df_postcodes_sliced = df_postcodes[SLICE_COLUMNS]"
   ]
  },
  {
   "cell_type": "code",
   "execution_count": 8,
   "metadata": {},
   "outputs": [
    {
     "name": "stdout",
     "output_type": "stream",
     "text": [
      "Rows without id: 0\n"
     ]
    }
   ],
   "source": [
    "### Merge with neighbourhoods to retrieve ID\n",
    "\n",
    "df_postcodes_merged = pd.merge(df_postcodes_sliced,\n",
    "                              df_neighbourhoods,\n",
    "                              how = 'left',\n",
    "                              left_on = 'District',\n",
    "                              right_on = 'neighbourhood')\n",
    "\n",
    "# Check all rows contain a non-null id\n",
    "null_ids = sum(df_postcodes_merged['id'].isnull())\n",
    "print(f'Rows without id: {null_ids}')\n",
    "\n",
    "# Drop neighbourhood field\n",
    "df_postcodes_merged.drop(columns = ['neighbourhood'], inplace = True)\n",
    "\n",
    "# Rename id to neghbourhood_id\n",
    "df_postcodes_merged.rename(columns = {'id': 'neighbourhood_id'},\n",
    "                          inplace = True)"
   ]
  },
  {
   "cell_type": "code",
   "execution_count": 9,
   "metadata": {},
   "outputs": [],
   "source": [
    "### Process data\n",
    "\n",
    "df_postcodes_process = df_postcodes_merged.copy()\n",
    "\n",
    "# Generate postcode formatted to URLs\n",
    "df_postcodes_process['postcode_url'] = df_postcodes_process['Postcode'].str.replace(' ', '+')\n",
    "\n",
    "# Change use column to bool\n",
    "USE_MAP = {'Yes': True,\n",
    "          'No': False}\n",
    "\n",
    "df_postcodes_process['In Use?'] = df_postcodes_process['In Use?'].map(USE_MAP)\n",
    "\n",
    "# Generate id column\n",
    "df_postcodes_process.reset_index(drop = False, inplace = True)\n",
    "df_postcodes_process['index'] += 1\n",
    "\n",
    "# Rename features\n",
    "RENAME = {'Postcode': 'postcode',\n",
    "          'In Use?': 'active',\n",
    "          'Latitude': 'latitude',\n",
    "          'Longitude': 'longitude',\n",
    "          'District': 'district',\n",
    "          'Constituency': 'constituency',\n",
    "          'Postcode area': 'postcode_area',\n",
    "          'Postcode district': 'postcode_district',\n",
    "          'index': 'id'}\n",
    "\n",
    "df_postcodes_process.rename(columns = RENAME, inplace = True)"
   ]
  },
  {
   "cell_type": "code",
   "execution_count": 16,
   "metadata": {},
   "outputs": [
    {
     "name": "stdout",
     "output_type": "stream",
     "text": [
      "Successfully inserted rows into target table\n"
     ]
    }
   ],
   "source": [
    "### Insert into dataset\n",
    "\n",
    "try:\n",
    "    df_postcodes_process.to_sql('postcodes',\n",
    "                                DB_URL,\n",
    "                                schema = 'city',\n",
    "                                if_exists = 'append',\n",
    "                                index = False,\n",
    "                                method = 'multi')\n",
    "    \n",
    "    print('Successfully inserted rows into target table')\n",
    "except:\n",
    "    print('Oh oh, something happened mate inserting rows. Try again.')"
   ]
  },
  {
   "cell_type": "markdown",
   "metadata": {},
   "source": [
    "## Process stations data"
   ]
  },
  {
   "cell_type": "code",
   "execution_count": 11,
   "metadata": {},
   "outputs": [],
   "source": [
    "### Build dataframe from KML file\n",
    "\n",
    "station_name = [i.name.text.strip() for i in kml_data.Placemark]\n",
    "station_description = [i.description.text.strip() for i in kml_data.Placemark]\n",
    "station_point = [i.Point.coordinates.text.strip() for i in kml_data.Placemark]\n",
    "\n",
    "# Create dataframe\n",
    "stations_data = {'name': station_name,\n",
    "                'description': station_description,\n",
    "                'point': station_point}\n",
    "\n",
    "df_stations = pd.DataFrame(stations_data)"
   ]
  },
  {
   "cell_type": "code",
   "execution_count": 12,
   "metadata": {},
   "outputs": [
    {
     "data": {
      "text/html": [
       "<div>\n",
       "<style scoped>\n",
       "    .dataframe tbody tr th:only-of-type {\n",
       "        vertical-align: middle;\n",
       "    }\n",
       "\n",
       "    .dataframe tbody tr th {\n",
       "        vertical-align: top;\n",
       "    }\n",
       "\n",
       "    .dataframe thead th {\n",
       "        text-align: right;\n",
       "    }\n",
       "</style>\n",
       "<table border=\"1\" class=\"dataframe\">\n",
       "  <thead>\n",
       "    <tr style=\"text-align: right;\">\n",
       "      <th></th>\n",
       "      <th>id</th>\n",
       "      <th>name</th>\n",
       "      <th>description</th>\n",
       "      <th>longitude</th>\n",
       "      <th>latitude</th>\n",
       "    </tr>\n",
       "  </thead>\n",
       "  <tbody>\n",
       "    <tr>\n",
       "      <th>0</th>\n",
       "      <td>1</td>\n",
       "      <td>Acton Town Station</td>\n",
       "      <td>Acton Town Station, London Underground Ltd., G...</td>\n",
       "      <td>-0.280251</td>\n",
       "      <td>51.502750</td>\n",
       "    </tr>\n",
       "    <tr>\n",
       "      <th>1</th>\n",
       "      <td>2</td>\n",
       "      <td>Aldgate Station</td>\n",
       "      <td>Aldgate Station, London Underground Ltd., Aldg...</td>\n",
       "      <td>-0.075614</td>\n",
       "      <td>51.514272</td>\n",
       "    </tr>\n",
       "    <tr>\n",
       "      <th>2</th>\n",
       "      <td>3</td>\n",
       "      <td>Aldgate East Station</td>\n",
       "      <td>Aldgate East Station, London Underground Ltd.,...</td>\n",
       "      <td>-0.072287</td>\n",
       "      <td>51.515233</td>\n",
       "    </tr>\n",
       "    <tr>\n",
       "      <th>3</th>\n",
       "      <td>4</td>\n",
       "      <td>Alperton Station</td>\n",
       "      <td>Alperton Station, London Underground Ltd., Eal...</td>\n",
       "      <td>-0.299487</td>\n",
       "      <td>51.540695</td>\n",
       "    </tr>\n",
       "    <tr>\n",
       "      <th>4</th>\n",
       "      <td>5</td>\n",
       "      <td>Amersham Station</td>\n",
       "      <td>Amersham Station, Stn Approach, Amersham, Buck...</td>\n",
       "      <td>-0.607479</td>\n",
       "      <td>51.674150</td>\n",
       "    </tr>\n",
       "  </tbody>\n",
       "</table>\n",
       "</div>"
      ],
      "text/plain": [
       "   id                  name  \\\n",
       "0   1    Acton Town Station   \n",
       "1   2       Aldgate Station   \n",
       "2   3  Aldgate East Station   \n",
       "3   4      Alperton Station   \n",
       "4   5      Amersham Station   \n",
       "\n",
       "                                         description  longitude   latitude  \n",
       "0  Acton Town Station, London Underground Ltd., G...  -0.280251  51.502750  \n",
       "1  Aldgate Station, London Underground Ltd., Aldg...  -0.075614  51.514272  \n",
       "2  Aldgate East Station, London Underground Ltd.,...  -0.072287  51.515233  \n",
       "3  Alperton Station, London Underground Ltd., Eal...  -0.299487  51.540695  \n",
       "4  Amersham Station, Stn Approach, Amersham, Buck...  -0.607479  51.674150  "
      ]
     },
     "execution_count": 12,
     "metadata": {},
     "output_type": "execute_result"
    }
   ],
   "source": [
    "### Process dataframe\n",
    "\n",
    "# Unwrap point\n",
    "df_station_point = df_stations['point'].str.split(',', expand = True)\n",
    "df_station_point.drop(columns = [2], inplace = True)\n",
    "df_station_point.rename(columns = {0: 'longitude', 1: 'latitude'}, inplace = True)\n",
    "\n",
    "# Concatenate coordinates\n",
    "df_stations_process = pd.concat([df_stations, df_station_point], axis = 1)\n",
    "df_stations_process.drop(columns = ['point'], inplace = True)\n",
    "\n",
    "# Cast datatypes\n",
    "df_stations_process['latitude'] = pd.to_numeric(df_stations_process['latitude'])\n",
    "df_stations_process['longitude'] = pd.to_numeric(df_stations_process['longitude'])\n",
    "\n",
    "# Create index\n",
    "df_stations_process.reset_index(drop = False, inplace = True)\n",
    "df_stations_process['index'] += 1\n",
    "df_stations_process.rename(columns = {'index': 'id'}, inplace = True)\n",
    "\n",
    "df_stations_process.head()"
   ]
  },
  {
   "cell_type": "code",
   "execution_count": 13,
   "metadata": {},
   "outputs": [
    {
     "name": "stdout",
     "output_type": "stream",
     "text": [
      "Successfully inserted rows into target table\n"
     ]
    }
   ],
   "source": [
    "### Insert into dataset\n",
    "\n",
    "try:\n",
    "    df_stations_process.to_sql('tfl_stations',\n",
    "                                DB_URL,\n",
    "                                schema = 'city',\n",
    "                                if_exists = 'append',\n",
    "                                index = False,\n",
    "                                method = 'multi')\n",
    "    \n",
    "    print('Successfully inserted rows into target table')\n",
    "except:\n",
    "    print('Oh oh, something happened mate inserting rows. Try again.')"
   ]
  },
  {
   "cell_type": "markdown",
   "metadata": {},
   "source": [
    "## Save local and S3 backups"
   ]
  },
  {
   "cell_type": "code",
   "execution_count": 14,
   "metadata": {},
   "outputs": [],
   "source": [
    "### Local backup\n",
    "\n",
    "df_postcodes_process.to_parquet(PARQUET_PATH + 'postcodes.parquet', index = False)\n",
    "df_stations_process.to_parquet(PARQUET_PATH + 'tfl_stations.parquet', index = False)"
   ]
  },
  {
   "cell_type": "code",
   "execution_count": 15,
   "metadata": {},
   "outputs": [],
   "source": [
    "### Save original data to S3\n",
    "\n",
    "s3_client = boto3.client(\"s3\")\n",
    "s3_parquet_bucket_name = os.environ.get('AWS_BUCKET_PARQUET')\n",
    "s3_original_bucket_name = os.environ.get('AWS_BUCKET_CSV')\n",
    "\n",
    "# Write original files into S3 storage\n",
    "files = [f for f in os.listdir(ORIGINAL_PATH) if os.path.isfile(os.path.join(ORIGINAL_PATH, f))]\n",
    "for f in files:\n",
    "    s3_client.upload_file(ORIGINAL_PATH + f, s3_original_bucket_name, f)\n",
    "    \n",
    "# Write parquet files into S3 storage\n",
    "files = [f for f in os.listdir(PARQUET_PATH) if os.path.isfile(os.path.join(PARQUET_PATH, f))]\n",
    "for f in files:\n",
    "    s3_client.upload_file(PARQUET_PATH + f, s3_parquet_bucket_name, f)"
   ]
  },
  {
   "cell_type": "code",
   "execution_count": null,
   "metadata": {},
   "outputs": [],
   "source": []
  }
 ],
 "metadata": {
  "kernelspec": {
   "display_name": "Python [conda env:Python3] *",
   "language": "python",
   "name": "conda-env-Python3-py"
  },
  "language_info": {
   "codemirror_mode": {
    "name": "ipython",
    "version": 3
   },
   "file_extension": ".py",
   "mimetype": "text/x-python",
   "name": "python",
   "nbconvert_exporter": "python",
   "pygments_lexer": "ipython3",
   "version": "3.8.2"
  }
 },
 "nbformat": 4,
 "nbformat_minor": 2
}
