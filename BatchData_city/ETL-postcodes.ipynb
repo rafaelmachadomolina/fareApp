{
 "cells": [
  {
   "cell_type": "markdown",
   "metadata": {},
   "source": [
    "# ETL to transform London postcodes to database schema\n",
    "\n",
    "This ETL is coded in pandas, since it is used only once and there is little risk of scalability (no many postcodes newly added to the city).\n",
    "\n",
    "The following process complements the database for *fareApp*, enriching information around properties. In this case, regarding public transportation."
   ]
  },
  {
   "cell_type": "code",
   "execution_count": null,
   "metadata": {},
   "outputs": [],
   "source": [
    "### Import modules\n",
    "\n",
    "import os\n",
    "import json\n",
    "import boto3\n",
    "import warnings\n",
    "import pandas as pd\n",
    "warnings.filterwarnings('ignore')"
   ]
  },
  {
   "cell_type": "code",
   "execution_count": null,
   "metadata": {},
   "outputs": [],
   "source": [
    "### Constants\n",
    "\n",
    "CSV_PATH = './OriginalData/'\n",
    "PARQUET_PATH = './SchemaReadyData_parquet/'"
   ]
  }
 ],
 "metadata": {
  "kernelspec": {
   "display_name": "Python [conda env:Python3] *",
   "language": "python",
   "name": "conda-env-Python3-py"
  },
  "language_info": {
   "codemirror_mode": {
    "name": "ipython",
    "version": 3
   },
   "file_extension": ".py",
   "mimetype": "text/x-python",
   "name": "python",
   "nbconvert_exporter": "python",
   "pygments_lexer": "ipython3",
   "version": "3.8.2"
  }
 },
 "nbformat": 4,
 "nbformat_minor": 2
}
